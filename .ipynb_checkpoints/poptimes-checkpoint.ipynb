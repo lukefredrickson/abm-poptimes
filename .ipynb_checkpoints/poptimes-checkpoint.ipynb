{
 "cells": [
  {
   "cell_type": "code",
   "execution_count": 2,
   "metadata": {},
   "outputs": [],
   "source": [
    "import pandas as pd\n",
    "import numpy as np\n",
    "import json"
   ]
  },
  {
   "cell_type": "code",
   "execution_count": 3,
   "metadata": {},
   "outputs": [
    {
     "data": {
      "text/plain": [
       "[0, 0, 0, 0, 0, 0, 0, 0, 0, 0, 0, 0, 0, 0, 0, 0, 0, 0, 0, 0, 0, 0, 0, 0]"
      ]
     },
     "execution_count": 3,
     "metadata": {},
     "output_type": "execute_result"
    }
   ],
   "source": [
    "times = [0] * 24\n",
    "times"
   ]
  },
  {
   "cell_type": "code",
   "execution_count": 16,
   "metadata": {},
   "outputs": [
    {
     "name": "stdout",
     "output_type": "stream",
     "text": [
      " 0:00h      1.27\n",
      " 1:00h      1.05\n",
      " 2:00h      0.05\n",
      " 3:00h      0.05\n",
      " 4:00h      0.06\n",
      " 5:00h      0.30\n",
      " 6:00h      2.01\n",
      " 7:00h      6.08\n",
      " 8:00h     18.97\n",
      " 9:00h     29.38\n",
      "10:00h     35.57\n",
      "11:00h     53.31\n",
      "12:00h     77.08\n",
      "13:00h     81.85\n",
      "14:00h     70.23\n",
      "15:00h     62.84\n",
      "16:00h     74.63\n",
      "17:00h     92.05\n",
      "18:00h    100.00\n",
      "19:00h     86.67\n",
      "20:00h     48.23\n",
      "21:00h     14.04\n",
      "22:00h      1.92\n",
      "23:00h      1.47\n"
     ]
    }
   ],
   "source": [
    "with open('btv-restaurants.json') as f:\n",
    "    bars = json.loads(f.read())\n",
    "\n",
    "for bar in bars:\n",
    "    for day in bar['populartimes']:\n",
    "        for i in range(0, len(day['data'])):\n",
    "            times[i] += day['data'][i]\n",
    "\n",
    "maxtime = max(times)\n",
    "for i in range(0, len(times)):\n",
    "    times[i] = times[i] / maxtime * 100\n",
    "\n",
    "for i, time in enumerate(times):\n",
    "    print(\"{0:>2}:00{1:10.2f}\".format(i, time))"
   ]
  },
  {
   "cell_type": "code",
   "execution_count": null,
   "metadata": {},
   "outputs": [],
   "source": []
  }
 ],
 "metadata": {
  "kernelspec": {
   "display_name": "Python 3",
   "language": "python",
   "name": "python3"
  },
  "language_info": {
   "codemirror_mode": {
    "name": "ipython",
    "version": 3
   },
   "file_extension": ".py",
   "mimetype": "text/x-python",
   "name": "python",
   "nbconvert_exporter": "python",
   "pygments_lexer": "ipython3",
   "version": "3.8.5"
  }
 },
 "nbformat": 4,
 "nbformat_minor": 5
}
